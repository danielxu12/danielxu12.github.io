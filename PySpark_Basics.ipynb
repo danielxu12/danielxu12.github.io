{
  "nbformat": 4,
  "nbformat_minor": 0,
  "metadata": {
    "colab": {
      "provenance": []
    },
    "kernelspec": {
      "name": "python3",
      "display_name": "Python 3"
    },
    "language_info": {
      "name": "python"
    }
  },
  "cells": [
    {
      "cell_type": "markdown",
      "source": [
        "---\n",
        "title: PySpark Basics\n",
        "author: Daniel\n",
        "date: 2025-02-14\n",
        "categories: [spark, pyhton, hadoop] # tags for a blog post (e.g., spark, python)\n",
        "image: Hadoop Icon.png\n",
        "  \n",
        "toc: true\n",
        "---\n",
        "\n",
        "\n",
        "## PySpark Basics\n",
        "# Hadoop\n",
        "* An open-source software framework for storing and processing large data sets\n",
        "Components\n",
        "* **Hadoop Distributed File System (HDFS)**: Distributed data storage\n",
        "Divides data into blocks and distributes them across different servers for processing.\n",
        "* **MapReduce**: Data processing model\n",
        " - Distributes the processing of big data files across a large cluster of machines.\n",
        " - Map Phase: Filters and sorts data\n",
        " - Reduce Phase: Summarizes and aggregates results\n",
        "\n",
        "\n",
        "**How Hadoop works**\n",
        "1. Data Distribution\n",
        "2. Data Storage\n",
        "3. Processing with MapReduce\n",
        "4. Fault Tolerance\n",
        "\n",
        "\n",
        "**Limitations of Hadoop**\n",
        "- Real-Time Processing Limitation:\n",
        "- Extending Hadoop’s Capabilities\n",
        "\n",
        "# Apache Spark\n",
        "* PySpark = Spark + Python\n",
        "* Pyspark is a Python API to Apache Spark.\n",
        "  - API: application programming interface, the set of functions, classes, and variables provided for you to interact with.\n",
        "  - Spark itself is coded in a different programming language, called Scala.\n",
        "- We can combine Python, pandas, and PySpark in one program.\n",
        "  - Koalas (now called pyspark.pandas) provides a pandas-like porcelain on top of PySpark.\n",
        "\n"
      ],
      "metadata": {
        "id": "LlKRqsXJMMhb"
      }
    },
    {
      "cell_type": "markdown",
      "source": [
        "Connecting your Google Drive for Google Colab"
      ],
      "metadata": {
        "id": "FuNB4HPpRxTS"
      }
    },
    {
      "cell_type": "code",
      "execution_count": 1,
      "metadata": {
        "id": "UHmtMDfRK9GF",
        "colab": {
          "base_uri": "https://localhost:8080/"
        },
        "outputId": "f6face01-8a4e-4905-e7fb-31d0a9f91738"
      },
      "outputs": [
        {
          "output_type": "stream",
          "name": "stdout",
          "text": [
            "Mounted at /content/drive\n"
          ]
        }
      ],
      "source": [
        "from google.colab import drive, files\n",
        "drive.mount('/content/drive')\n"
      ]
    },
    {
      "cell_type": "code",
      "source": [
        "files.upload()"
      ],
      "metadata": {
        "id": "A-rfXkE8R5Zw"
      },
      "execution_count": null,
      "outputs": []
    },
    {
      "cell_type": "markdown",
      "source": [
        "Downloading PySpark"
      ],
      "metadata": {
        "id": "0cuHRGLzR7UQ"
      }
    },
    {
      "cell_type": "code",
      "source": [
        "from pyspark.sql import SparkSession\n",
        "spark = SparkSession.builder.master(\"local[*]\").getOrCreate()\n"
      ],
      "metadata": {
        "id": "UYopBSViR9iH"
      },
      "execution_count": 2,
      "outputs": []
    },
    {
      "cell_type": "markdown",
      "source": [
        "Import Dataframe and Pandas and create a PySpark Dataframe\n"
      ],
      "metadata": {
        "id": "ejj-ldG4WgiW"
      }
    },
    {
      "cell_type": "code",
      "source": [
        "path = 'https://bcdanl.github.io/data/dominick_oj.csv'\n",
        "import pandas as pd\n",
        "df_oj = pd.read_csv(path)\n",
        "spark_df = spark.createDataFrame(df_oj)\n",
        "\n",
        "spark_df"
      ],
      "metadata": {
        "colab": {
          "base_uri": "https://localhost:8080/"
        },
        "id": "tARcMiPxUmuZ",
        "outputId": "0bcf65e5-6b97-4974-a984-8e1b7a6e7677"
      },
      "execution_count": 9,
      "outputs": [
        {
          "output_type": "execute_result",
          "data": {
            "text/plain": [
              "DataFrame[sales: double, price: double, brand: string, ad: bigint]"
            ]
          },
          "metadata": {},
          "execution_count": 9
        }
      ]
    },
    {
      "cell_type": "markdown",
      "source": [
        "Comparing PANDAS and SPARK with the SAME Dataframe"
      ],
      "metadata": {
        "id": "DKWyK1JxXUR9"
      }
    },
    {
      "cell_type": "code",
      "source": [
        "df_oj.describe()"
      ],
      "metadata": {
        "colab": {
          "base_uri": "https://localhost:8080/",
          "height": 300
        },
        "id": "gFwJ1XT-WmKZ",
        "outputId": "3a4a8292-2662-4864-c944-cc13b2abd674"
      },
      "execution_count": 11,
      "outputs": [
        {
          "output_type": "execute_result",
          "data": {
            "text/plain": [
              "               sales         price            ad\n",
              "count   28947.000000  28947.000000  28947.000000\n",
              "mean    17312.213356      2.282488      0.237261\n",
              "std     27477.660437      0.648001      0.425411\n",
              "min        64.000000      0.520000      0.000000\n",
              "25%      4864.000000      1.790000      0.000000\n",
              "50%      8384.000000      2.170000      0.000000\n",
              "75%     17408.000000      2.730000      0.000000\n",
              "max    716416.000100      3.870000      1.000000"
            ],
            "text/html": [
              "\n",
              "  <div id=\"df-f444d5e1-8272-4b68-9ad2-2a875e79e553\" class=\"colab-df-container\">\n",
              "    <div>\n",
              "<style scoped>\n",
              "    .dataframe tbody tr th:only-of-type {\n",
              "        vertical-align: middle;\n",
              "    }\n",
              "\n",
              "    .dataframe tbody tr th {\n",
              "        vertical-align: top;\n",
              "    }\n",
              "\n",
              "    .dataframe thead th {\n",
              "        text-align: right;\n",
              "    }\n",
              "</style>\n",
              "<table border=\"1\" class=\"dataframe\">\n",
              "  <thead>\n",
              "    <tr style=\"text-align: right;\">\n",
              "      <th></th>\n",
              "      <th>sales</th>\n",
              "      <th>price</th>\n",
              "      <th>ad</th>\n",
              "    </tr>\n",
              "  </thead>\n",
              "  <tbody>\n",
              "    <tr>\n",
              "      <th>count</th>\n",
              "      <td>28947.000000</td>\n",
              "      <td>28947.000000</td>\n",
              "      <td>28947.000000</td>\n",
              "    </tr>\n",
              "    <tr>\n",
              "      <th>mean</th>\n",
              "      <td>17312.213356</td>\n",
              "      <td>2.282488</td>\n",
              "      <td>0.237261</td>\n",
              "    </tr>\n",
              "    <tr>\n",
              "      <th>std</th>\n",
              "      <td>27477.660437</td>\n",
              "      <td>0.648001</td>\n",
              "      <td>0.425411</td>\n",
              "    </tr>\n",
              "    <tr>\n",
              "      <th>min</th>\n",
              "      <td>64.000000</td>\n",
              "      <td>0.520000</td>\n",
              "      <td>0.000000</td>\n",
              "    </tr>\n",
              "    <tr>\n",
              "      <th>25%</th>\n",
              "      <td>4864.000000</td>\n",
              "      <td>1.790000</td>\n",
              "      <td>0.000000</td>\n",
              "    </tr>\n",
              "    <tr>\n",
              "      <th>50%</th>\n",
              "      <td>8384.000000</td>\n",
              "      <td>2.170000</td>\n",
              "      <td>0.000000</td>\n",
              "    </tr>\n",
              "    <tr>\n",
              "      <th>75%</th>\n",
              "      <td>17408.000000</td>\n",
              "      <td>2.730000</td>\n",
              "      <td>0.000000</td>\n",
              "    </tr>\n",
              "    <tr>\n",
              "      <th>max</th>\n",
              "      <td>716416.000100</td>\n",
              "      <td>3.870000</td>\n",
              "      <td>1.000000</td>\n",
              "    </tr>\n",
              "  </tbody>\n",
              "</table>\n",
              "</div>\n",
              "    <div class=\"colab-df-buttons\">\n",
              "\n",
              "  <div class=\"colab-df-container\">\n",
              "    <button class=\"colab-df-convert\" onclick=\"convertToInteractive('df-f444d5e1-8272-4b68-9ad2-2a875e79e553')\"\n",
              "            title=\"Convert this dataframe to an interactive table.\"\n",
              "            style=\"display:none;\">\n",
              "\n",
              "  <svg xmlns=\"http://www.w3.org/2000/svg\" height=\"24px\" viewBox=\"0 -960 960 960\">\n",
              "    <path d=\"M120-120v-720h720v720H120Zm60-500h600v-160H180v160Zm220 220h160v-160H400v160Zm0 220h160v-160H400v160ZM180-400h160v-160H180v160Zm440 0h160v-160H620v160ZM180-180h160v-160H180v160Zm440 0h160v-160H620v160Z\"/>\n",
              "  </svg>\n",
              "    </button>\n",
              "\n",
              "  <style>\n",
              "    .colab-df-container {\n",
              "      display:flex;\n",
              "      gap: 12px;\n",
              "    }\n",
              "\n",
              "    .colab-df-convert {\n",
              "      background-color: #E8F0FE;\n",
              "      border: none;\n",
              "      border-radius: 50%;\n",
              "      cursor: pointer;\n",
              "      display: none;\n",
              "      fill: #1967D2;\n",
              "      height: 32px;\n",
              "      padding: 0 0 0 0;\n",
              "      width: 32px;\n",
              "    }\n",
              "\n",
              "    .colab-df-convert:hover {\n",
              "      background-color: #E2EBFA;\n",
              "      box-shadow: 0px 1px 2px rgba(60, 64, 67, 0.3), 0px 1px 3px 1px rgba(60, 64, 67, 0.15);\n",
              "      fill: #174EA6;\n",
              "    }\n",
              "\n",
              "    .colab-df-buttons div {\n",
              "      margin-bottom: 4px;\n",
              "    }\n",
              "\n",
              "    [theme=dark] .colab-df-convert {\n",
              "      background-color: #3B4455;\n",
              "      fill: #D2E3FC;\n",
              "    }\n",
              "\n",
              "    [theme=dark] .colab-df-convert:hover {\n",
              "      background-color: #434B5C;\n",
              "      box-shadow: 0px 1px 3px 1px rgba(0, 0, 0, 0.15);\n",
              "      filter: drop-shadow(0px 1px 2px rgba(0, 0, 0, 0.3));\n",
              "      fill: #FFFFFF;\n",
              "    }\n",
              "  </style>\n",
              "\n",
              "    <script>\n",
              "      const buttonEl =\n",
              "        document.querySelector('#df-f444d5e1-8272-4b68-9ad2-2a875e79e553 button.colab-df-convert');\n",
              "      buttonEl.style.display =\n",
              "        google.colab.kernel.accessAllowed ? 'block' : 'none';\n",
              "\n",
              "      async function convertToInteractive(key) {\n",
              "        const element = document.querySelector('#df-f444d5e1-8272-4b68-9ad2-2a875e79e553');\n",
              "        const dataTable =\n",
              "          await google.colab.kernel.invokeFunction('convertToInteractive',\n",
              "                                                    [key], {});\n",
              "        if (!dataTable) return;\n",
              "\n",
              "        const docLinkHtml = 'Like what you see? Visit the ' +\n",
              "          '<a target=\"_blank\" href=https://colab.research.google.com/notebooks/data_table.ipynb>data table notebook</a>'\n",
              "          + ' to learn more about interactive tables.';\n",
              "        element.innerHTML = '';\n",
              "        dataTable['output_type'] = 'display_data';\n",
              "        await google.colab.output.renderOutput(dataTable, element);\n",
              "        const docLink = document.createElement('div');\n",
              "        docLink.innerHTML = docLinkHtml;\n",
              "        element.appendChild(docLink);\n",
              "      }\n",
              "    </script>\n",
              "  </div>\n",
              "\n",
              "\n",
              "<div id=\"df-f2be904f-b9fb-4f73-9ef2-a4785910ba9e\">\n",
              "  <button class=\"colab-df-quickchart\" onclick=\"quickchart('df-f2be904f-b9fb-4f73-9ef2-a4785910ba9e')\"\n",
              "            title=\"Suggest charts\"\n",
              "            style=\"display:none;\">\n",
              "\n",
              "<svg xmlns=\"http://www.w3.org/2000/svg\" height=\"24px\"viewBox=\"0 0 24 24\"\n",
              "     width=\"24px\">\n",
              "    <g>\n",
              "        <path d=\"M19 3H5c-1.1 0-2 .9-2 2v14c0 1.1.9 2 2 2h14c1.1 0 2-.9 2-2V5c0-1.1-.9-2-2-2zM9 17H7v-7h2v7zm4 0h-2V7h2v10zm4 0h-2v-4h2v4z\"/>\n",
              "    </g>\n",
              "</svg>\n",
              "  </button>\n",
              "\n",
              "<style>\n",
              "  .colab-df-quickchart {\n",
              "      --bg-color: #E8F0FE;\n",
              "      --fill-color: #1967D2;\n",
              "      --hover-bg-color: #E2EBFA;\n",
              "      --hover-fill-color: #174EA6;\n",
              "      --disabled-fill-color: #AAA;\n",
              "      --disabled-bg-color: #DDD;\n",
              "  }\n",
              "\n",
              "  [theme=dark] .colab-df-quickchart {\n",
              "      --bg-color: #3B4455;\n",
              "      --fill-color: #D2E3FC;\n",
              "      --hover-bg-color: #434B5C;\n",
              "      --hover-fill-color: #FFFFFF;\n",
              "      --disabled-bg-color: #3B4455;\n",
              "      --disabled-fill-color: #666;\n",
              "  }\n",
              "\n",
              "  .colab-df-quickchart {\n",
              "    background-color: var(--bg-color);\n",
              "    border: none;\n",
              "    border-radius: 50%;\n",
              "    cursor: pointer;\n",
              "    display: none;\n",
              "    fill: var(--fill-color);\n",
              "    height: 32px;\n",
              "    padding: 0;\n",
              "    width: 32px;\n",
              "  }\n",
              "\n",
              "  .colab-df-quickchart:hover {\n",
              "    background-color: var(--hover-bg-color);\n",
              "    box-shadow: 0 1px 2px rgba(60, 64, 67, 0.3), 0 1px 3px 1px rgba(60, 64, 67, 0.15);\n",
              "    fill: var(--button-hover-fill-color);\n",
              "  }\n",
              "\n",
              "  .colab-df-quickchart-complete:disabled,\n",
              "  .colab-df-quickchart-complete:disabled:hover {\n",
              "    background-color: var(--disabled-bg-color);\n",
              "    fill: var(--disabled-fill-color);\n",
              "    box-shadow: none;\n",
              "  }\n",
              "\n",
              "  .colab-df-spinner {\n",
              "    border: 2px solid var(--fill-color);\n",
              "    border-color: transparent;\n",
              "    border-bottom-color: var(--fill-color);\n",
              "    animation:\n",
              "      spin 1s steps(1) infinite;\n",
              "  }\n",
              "\n",
              "  @keyframes spin {\n",
              "    0% {\n",
              "      border-color: transparent;\n",
              "      border-bottom-color: var(--fill-color);\n",
              "      border-left-color: var(--fill-color);\n",
              "    }\n",
              "    20% {\n",
              "      border-color: transparent;\n",
              "      border-left-color: var(--fill-color);\n",
              "      border-top-color: var(--fill-color);\n",
              "    }\n",
              "    30% {\n",
              "      border-color: transparent;\n",
              "      border-left-color: var(--fill-color);\n",
              "      border-top-color: var(--fill-color);\n",
              "      border-right-color: var(--fill-color);\n",
              "    }\n",
              "    40% {\n",
              "      border-color: transparent;\n",
              "      border-right-color: var(--fill-color);\n",
              "      border-top-color: var(--fill-color);\n",
              "    }\n",
              "    60% {\n",
              "      border-color: transparent;\n",
              "      border-right-color: var(--fill-color);\n",
              "    }\n",
              "    80% {\n",
              "      border-color: transparent;\n",
              "      border-right-color: var(--fill-color);\n",
              "      border-bottom-color: var(--fill-color);\n",
              "    }\n",
              "    90% {\n",
              "      border-color: transparent;\n",
              "      border-bottom-color: var(--fill-color);\n",
              "    }\n",
              "  }\n",
              "</style>\n",
              "\n",
              "  <script>\n",
              "    async function quickchart(key) {\n",
              "      const quickchartButtonEl =\n",
              "        document.querySelector('#' + key + ' button');\n",
              "      quickchartButtonEl.disabled = true;  // To prevent multiple clicks.\n",
              "      quickchartButtonEl.classList.add('colab-df-spinner');\n",
              "      try {\n",
              "        const charts = await google.colab.kernel.invokeFunction(\n",
              "            'suggestCharts', [key], {});\n",
              "      } catch (error) {\n",
              "        console.error('Error during call to suggestCharts:', error);\n",
              "      }\n",
              "      quickchartButtonEl.classList.remove('colab-df-spinner');\n",
              "      quickchartButtonEl.classList.add('colab-df-quickchart-complete');\n",
              "    }\n",
              "    (() => {\n",
              "      let quickchartButtonEl =\n",
              "        document.querySelector('#df-f2be904f-b9fb-4f73-9ef2-a4785910ba9e button');\n",
              "      quickchartButtonEl.style.display =\n",
              "        google.colab.kernel.accessAllowed ? 'block' : 'none';\n",
              "    })();\n",
              "  </script>\n",
              "</div>\n",
              "\n",
              "    </div>\n",
              "  </div>\n"
            ],
            "application/vnd.google.colaboratory.intrinsic+json": {
              "type": "dataframe",
              "summary": "{\n  \"name\": \"df_oj\",\n  \"rows\": 8,\n  \"fields\": [\n    {\n      \"column\": \"sales\",\n      \"properties\": {\n        \"dtype\": \"number\",\n        \"std\": 248225.84954836068,\n        \"min\": 64.0,\n        \"max\": 716416.0001,\n        \"num_unique_values\": 8,\n        \"samples\": [\n          17312.21335553287,\n          8384.0,\n          28947.0\n        ],\n        \"semantic_type\": \"\",\n        \"description\": \"\"\n      }\n    },\n    {\n      \"column\": \"price\",\n      \"properties\": {\n        \"dtype\": \"number\",\n        \"std\": 10233.60241820303,\n        \"min\": 0.52,\n        \"max\": 28947.0,\n        \"num_unique_values\": 8,\n        \"samples\": [\n          2.2824879953017585,\n          2.17,\n          28947.0\n        ],\n        \"semantic_type\": \"\",\n        \"description\": \"\"\n      }\n    },\n    {\n      \"column\": \"ad\",\n      \"properties\": {\n        \"dtype\": \"number\",\n        \"std\": 10234.226025751397,\n        \"min\": 0.0,\n        \"max\": 28947.0,\n        \"num_unique_values\": 5,\n        \"samples\": [\n          0.23726120150620097,\n          1.0,\n          0.4254110667279397\n        ],\n        \"semantic_type\": \"\",\n        \"description\": \"\"\n      }\n    }\n  ]\n}"
            }
          },
          "metadata": {},
          "execution_count": 11
        }
      ]
    },
    {
      "cell_type": "code",
      "source": [
        "spark_df.describe().show()"
      ],
      "metadata": {
        "colab": {
          "base_uri": "https://localhost:8080/"
        },
        "id": "nlWmHPywXSRK",
        "outputId": "108e7d47-3df8-4d53-dee0-71becf925be0"
      },
      "execution_count": 15,
      "outputs": [
        {
          "output_type": "stream",
          "name": "stdout",
          "text": [
            "+-------+------------------+------------------+---------+-------------------+\n",
            "|summary|             sales|             price|    brand|                 ad|\n",
            "+-------+------------------+------------------+---------+-------------------+\n",
            "|  count|             28947|             28947|    28947|              28947|\n",
            "|   mean|17312.213355532807|2.2824879953018553|     NULL|0.23726120150620097|\n",
            "| stddev|27477.660437204635|0.6480007152143781|     NULL| 0.4254110667279149|\n",
            "|    min|              64.0|              0.52|dominicks|                  0|\n",
            "|    max|       716416.0001|              3.87|tropicana|                  1|\n",
            "+-------+------------------+------------------+---------+-------------------+\n",
            "\n"
          ]
        }
      ]
    }
  ]
}